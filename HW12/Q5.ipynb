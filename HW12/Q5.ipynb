{
 "cells": [
  {
   "cell_type": "code",
   "execution_count": 47,
   "metadata": {},
   "outputs": [],
   "source": [
    "import openpyxl \n",
    "import numpy as np\n",
    "import matplotlib.pyplot as plt"
   ]
  },
  {
   "cell_type": "code",
   "execution_count": 6,
   "metadata": {},
   "outputs": [
    {
     "name": "stdout",
     "output_type": "stream",
     "text": [
      "[[153, 21, 173, 46], [116, 30, 129, 53], [125, 135, 155, 170], [30, 160, 60, 180], [10, 5, 30, 30]]\n"
     ]
    }
   ],
   "source": [
    "# https://www.geeksforgeeks.org/working-with-excel-spreadsheets-in-python/\n",
    "path = \"ground-truth.xlsx\"\n",
    "gt = []\n",
    "wb_obj = openpyxl.load_workbook(path) \n",
    "sheet_obj = wb_obj.active\n",
    "for i in range(2, 7):\n",
    "        x1 = sheet_obj.cell(row = i, column = 1).value\n",
    "        y1 = sheet_obj.cell(row = i, column = 2).value\n",
    "        x2 = sheet_obj.cell(row = i, column = 3).value + x1\n",
    "        y2 = sheet_obj.cell(row = i, column = 4).value + y1\n",
    "        gt.append([x1, y1, x2, y2])\n",
    "print(gt)"
   ]
  },
  {
   "cell_type": "code",
   "execution_count": 21,
   "metadata": {},
   "outputs": [
    {
     "name": "stdout",
     "output_type": "stream",
     "text": [
      "[[11, 5, 30, 31], [18, 39, 49, 62], [55, 72, 89, 108], [114, 31, 128, 52], [24, 98, 45, 132], [36, 150, 77, 176], [124, 136, 153, 171], [92, 153, 119, 200]]\n"
     ]
    }
   ],
   "source": [
    "path = \"detections.xlsx\"\n",
    "detections = []\n",
    "wb_obj = openpyxl.load_workbook(path) \n",
    "sheet_obj = wb_obj.active\n",
    "for i in range(2, 10):\n",
    "        x1 = sheet_obj.cell(row = i, column = 1).value\n",
    "        y1 = sheet_obj.cell(row = i, column = 2).value\n",
    "        x2 = sheet_obj.cell(row = i, column = 3).value + x1\n",
    "        y2 = sheet_obj.cell(row = i, column = 4).value + y1\n",
    "        detections.append([x1, y1, x2, y2])\n",
    "print(detections)"
   ]
  },
  {
   "cell_type": "code",
   "execution_count": 10,
   "metadata": {},
   "outputs": [],
   "source": [
    "def get_iou(a, b):\n",
    "    x1 = max(a[0], b[0])\n",
    "    y1 = max(a[1], b[1])\n",
    "    x2 = min(a[2], b[2])\n",
    "    y2 = min(a[3], b[3])\n",
    "\n",
    "    width = (x2 - x1)\n",
    "    height = (y2 - y1)\n",
    "\n",
    "    if (width < 0) or (height < 0):\n",
    "        return 0.0\n",
    "    area_overlap = width * height\n",
    "\n",
    "    area_a = (a[2] - a[0]) * (a[3] - a[1])\n",
    "    area_b = (b[2] - b[0]) * (b[3] - b[1])\n",
    "    area_combined = area_a + area_b - area_overlap\n",
    "\n",
    "    iou = area_overlap / (area_combined)\n",
    "    return iou"
   ]
  },
  {
   "cell_type": "code",
   "execution_count": 17,
   "metadata": {},
   "outputs": [],
   "source": [
    "def check_correct_column(gt, detections, iou_threshold):\n",
    "    FP = 0\n",
    "    TP = 0\n",
    "    actual = None\n",
    "    result = []\n",
    "    path = \"detections.xlsx\"\n",
    "    wb_obj = openpyxl.load_workbook(path) \n",
    "    sheet_obj = wb_obj.active\n",
    "    for d in detections:\n",
    "        for g in gt:\n",
    "            iou = get_iou(d, g)\n",
    "            if(iou < iou_threshold):\n",
    "                actual = 'FALSE'\n",
    "            else:\n",
    "                actual = 'TRUE'\n",
    "                break\n",
    "        result.append(actual)\n",
    "    return result"
   ]
  },
  {
   "cell_type": "code",
   "execution_count": 101,
   "metadata": {},
   "outputs": [],
   "source": [
    "def ap(th):\n",
    "    if th == 0.25:\n",
    "        c = 6\n",
    "    elif th == 0.5:\n",
    "        c = 7\n",
    "    elif th == 0.75:\n",
    "        c = 8\n",
    "    path = \"detections.xlsx\"\n",
    "    col = []\n",
    "    scores = []\n",
    "    wb_obj = openpyxl.load_workbook(path) \n",
    "    sheet_obj = wb_obj.active\n",
    "    for i in range(2, 10): \n",
    "        cell1_obj = sheet_obj.cell(row = i, column = c)\n",
    "        cell2_obj = sheet_obj.cell(row = i, column = 5) \n",
    "        col.append(cell1_obj.value)\n",
    "        scores.append(cell2_obj.value)\n",
    "    chart = []\n",
    "    i = 0.9\n",
    "    recall = 0\n",
    "    \n",
    "    while(i >= 0.1):\n",
    "        TP = 0\n",
    "        FP = 0\n",
    "        FN = 0\n",
    "        for j, s in enumerate(scores):\n",
    "            if (s > i) and (col[j] == 'TRUE' or col[j] == True):\n",
    "                TP += 1\n",
    "            if (s > i) and (col[j] == 'FALSE' or col[j] == False):\n",
    "                FP += 1\n",
    "            if (s < i) and (col[j] == 'TRUE' or col[j] == True):\n",
    "                FN += 1\n",
    "        total_predicted = TP + FP\n",
    "        total_gt = TP + FN\n",
    "        if total_predicted == 0:\n",
    "            if total_gt == 0:\n",
    "                p = 1.\n",
    "            else:\n",
    "                p = 0.\n",
    "        elif total_gt == 0:\n",
    "            recall = 1.\n",
    "        else:\n",
    "            recall = float(TP) / total_gt\n",
    "            p = float(TP) / total_predicted\n",
    "        chart.append([recall, p])\n",
    "        i -= 0.1\n",
    "    return chart"
   ]
  },
  {
   "cell_type": "code",
   "execution_count": 94,
   "metadata": {},
   "outputs": [],
   "source": [
    "def area(x,y):\n",
    "    return 0.5*np.abs(np.dot(x,np.roll(y,1))-np.dot(y,np.roll(x,1)))"
   ]
  },
  {
   "cell_type": "code",
   "execution_count": 96,
   "metadata": {},
   "outputs": [
    {
     "name": "stdout",
     "output_type": "stream",
     "text": [
      "P:  0.06190476190476213\n"
     ]
    },
    {
     "data": {
      "text/plain": [
       "<matplotlib.collections.PolyCollection at 0x1d083613130>"
      ]
     },
     "execution_count": 96,
     "metadata": {},
     "output_type": "execute_result"
    },
    {
     "data": {
      "image/png": "[encoded data removed]",
      "text/plain": [
       "<Figure size 640x480 with 1 Axes>"
      ]
     },
     "metadata": {},
     "output_type": "display_data"
    }
   ],
   "source": [
    "ap_val = ap(0.25)\n",
    "x = [pair[0] for pair in ap_val]\n",
    "y = [pair[1] for pair in ap_val]\n",
    "print(\"P: \", area(x, y))\n",
    "plt.plot(x, y)\n",
    "plt.fill_between(x, y)"
   ]
  },
  {
   "cell_type": "code",
   "execution_count": 104,
   "metadata": {},
   "outputs": [
    {
     "name": "stdout",
     "output_type": "stream",
     "text": [
      "P:  0.030555555555555447\n"
     ]
    },
    {
     "data": {
      "text/plain": [
       "<matplotlib.collections.PolyCollection at 0x1d08370d220>"
      ]
     },
     "execution_count": 104,
     "metadata": {},
     "output_type": "execute_result"
    },
    {
     "data": {
      "image/png": "[encoded data removed]",
      "text/plain": [
       "<Figure size 640x480 with 1 Axes>"
      ]
     },
     "metadata": {},
     "output_type": "display_data"
    }
   ],
   "source": [
    "ap_val = ap(0.5)\n",
    "x = [pair[0] for pair in ap_val]\n",
    "y = [pair[1] for pair in ap_val]\n",
    "print(\"P: \", area(x, y))\n",
    "plt.plot(x, y)\n",
    "plt.fill_between(x, y)"
   ]
  },
  {
   "cell_type": "code",
   "execution_count": 106,
   "metadata": {},
   "outputs": [
    {
     "name": "stdout",
     "output_type": "stream",
     "text": [
      "P:  0.1416666666666666\n"
     ]
    },
    {
     "data": {
      "text/plain": [
       "<matplotlib.collections.PolyCollection at 0x1d0822a0610>"
      ]
     },
     "execution_count": 106,
     "metadata": {},
     "output_type": "execute_result"
    },
    {
     "data": {
      "image/png": "[encoded data removed]",
      "text/plain": [
       "<Figure size 640x480 with 1 Axes>"
      ]
     },
     "metadata": {},
     "output_type": "display_data"
    }
   ],
   "source": [
    "ap_val = ap(0.75)\n",
    "x = [pair[0] for pair in ap_val]\n",
    "y = [pair[1] for pair in ap_val]\n",
    "print(\"P: \", area(x, y))\n",
    "plt.plot(x, y)\n",
    "plt.fill_between(x, y)"
   ]
  }
 ],
 "metadata": {
  "kernelspec": {
   "display_name": "Python 3",
   "language": "python",
   "name": "python3"
  },
  "language_info": {
   "codemirror_mode": {
    "name": "ipython",
    "version": 3
   },
   "file_extension": ".py",
   "mimetype": "text/x-python",
   "name": "python",
   "nbconvert_exporter": "python",
   "pygments_lexer": "ipython3",
   "version": "3.8.0"
  },
  "orig_nbformat": 4,
  "vscode": {
   "interpreter": {
    "hash": "723d4b7bc280cd31fdada53ad6420192b9a3a8d60631096143cc718cb9440dc1"
   }
  }
 },
 "nbformat": 4,
 "nbformat_minor": 2
}
