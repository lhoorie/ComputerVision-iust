{
  "cells": [
    {
      "cell_type": "code",
      "execution_count": 1,
      "metadata": {
        "id": "eVE9CXTgGLxO",
        "colab": {
          "base_uri": "https://localhost:8080/",
          "height": 1000
        },
        "outputId": "f8514eba-83d8-4054-a803-d10e63ac4b97"
      },
      "outputs": [
        {
          "output_type": "stream",
          "name": "stdout",
          "text": [
            "Reading package lists... Done\n",
            "Building dependency tree       \n",
            "Reading state information... Done\n",
            "The following package was automatically installed and is no longer required:\n",
            "  libnvidia-common-460\n",
            "Use 'sudo apt autoremove' to remove it.\n",
            "The following additional packages will be installed:\n",
            "  tesseract-ocr-eng tesseract-ocr-osd\n",
            "The following NEW packages will be installed:\n",
            "  tesseract-ocr tesseract-ocr-eng tesseract-ocr-osd\n",
            "0 upgraded, 3 newly installed, 0 to remove and 7 not upgraded.\n",
            "Need to get 4,795 kB of archives.\n",
            "After this operation, 15.8 MB of additional disk space will be used.\n",
            "Get:1 http://archive.ubuntu.com/ubuntu bionic/universe amd64 tesseract-ocr-eng all 4.00~git24-0e00fe6-1.2 [1,588 kB]\n",
            "Get:2 http://archive.ubuntu.com/ubuntu bionic/universe amd64 tesseract-ocr-osd all 4.00~git24-0e00fe6-1.2 [2,989 kB]\n",
            "Get:3 http://archive.ubuntu.com/ubuntu bionic/universe amd64 tesseract-ocr amd64 4.00~git2288-10f4998a-2 [218 kB]\n",
            "Fetched 4,795 kB in 2s (2,978 kB/s)\n",
            "debconf: unable to initialize frontend: Dialog\n",
            "debconf: (No usable dialog-like program is installed, so the dialog based frontend cannot be used. at /usr/share/perl5/Debconf/FrontEnd/Dialog.pm line 76, <> line 3.)\n",
            "debconf: falling back to frontend: Readline\n",
            "debconf: unable to initialize frontend: Readline\n",
            "debconf: (This frontend requires a controlling tty.)\n",
            "debconf: falling back to frontend: Teletype\n",
            "dpkg-preconfigure: unable to re-open stdin: \n",
            "Selecting previously unselected package tesseract-ocr-eng.\n",
            "(Reading database ... 124015 files and directories currently installed.)\n",
            "Preparing to unpack .../tesseract-ocr-eng_4.00~git24-0e00fe6-1.2_all.deb ...\n",
            "Unpacking tesseract-ocr-eng (4.00~git24-0e00fe6-1.2) ...\n",
            "Selecting previously unselected package tesseract-ocr-osd.\n",
            "Preparing to unpack .../tesseract-ocr-osd_4.00~git24-0e00fe6-1.2_all.deb ...\n",
            "Unpacking tesseract-ocr-osd (4.00~git24-0e00fe6-1.2) ...\n",
            "Selecting previously unselected package tesseract-ocr.\n",
            "Preparing to unpack .../tesseract-ocr_4.00~git2288-10f4998a-2_amd64.deb ...\n",
            "Unpacking tesseract-ocr (4.00~git2288-10f4998a-2) ...\n",
            "Setting up tesseract-ocr-osd (4.00~git24-0e00fe6-1.2) ...\n",
            "Setting up tesseract-ocr-eng (4.00~git24-0e00fe6-1.2) ...\n",
            "Setting up tesseract-ocr (4.00~git2288-10f4998a-2) ...\n",
            "Processing triggers for man-db (2.8.3-2ubuntu0.1) ...\n",
            "Looking in indexes: https://pypi.org/simple, https://us-python.pkg.dev/colab-wheels/public/simple/\n",
            "Collecting pytesseract\n",
            "  Downloading pytesseract-0.3.10-py3-none-any.whl (14 kB)\n",
            "Requirement already satisfied: packaging>=21.3 in /usr/local/lib/python3.8/dist-packages (from pytesseract) (21.3)\n",
            "Collecting Pillow>=8.0.0\n",
            "  Downloading Pillow-9.3.0-cp38-cp38-manylinux_2_17_x86_64.manylinux2014_x86_64.whl (3.2 MB)\n",
            "\u001b[K     |████████████████████████████████| 3.2 MB 6.8 MB/s \n",
            "\u001b[?25hRequirement already satisfied: pyparsing!=3.0.5,>=2.0.2 in /usr/local/lib/python3.8/dist-packages (from packaging>=21.3->pytesseract) (3.0.9)\n",
            "Installing collected packages: Pillow, pytesseract\n",
            "  Attempting uninstall: Pillow\n",
            "    Found existing installation: Pillow 7.1.2\n",
            "    Uninstalling Pillow-7.1.2:\n",
            "      Successfully uninstalled Pillow-7.1.2\n",
            "Successfully installed Pillow-9.3.0 pytesseract-0.3.10\n"
          ]
        },
        {
          "output_type": "display_data",
          "data": {
            "application/vnd.colab-display-data+json": {
              "pip_warning": {
                "packages": [
                  "PIL"
                ]
              }
            }
          },
          "metadata": {}
        }
      ],
      "source": [
        "!sudo apt install tesseract-ocr\n",
        "!pip install pytesseract"
      ]
    },
    {
      "cell_type": "code",
      "execution_count": 1,
      "metadata": {
        "id": "iqHoYiSH62pz",
        "colab": {
          "base_uri": "https://localhost:8080/"
        },
        "outputId": "7b4cb9fc-1cfe-4360-bf9b-09c4b6b38186"
      },
      "outputs": [
        {
          "output_type": "stream",
          "name": "stdout",
          "text": [
            "Reading package lists... Done\n",
            "Building dependency tree       \n",
            "Reading state information... Done\n",
            "The following package was automatically installed and is no longer required:\n",
            "  libnvidia-common-460\n",
            "Use 'sudo apt autoremove' to remove it.\n",
            "The following NEW packages will be installed:\n",
            "  tesseract-ocr-fas\n",
            "0 upgraded, 1 newly installed, 0 to remove and 7 not upgraded.\n",
            "Need to get 301 kB of archives.\n",
            "After this operation, 446 kB of additional disk space will be used.\n",
            "Get:1 http://archive.ubuntu.com/ubuntu bionic/universe amd64 tesseract-ocr-fas all 4.00~git24-0e00fe6-1.2 [301 kB]\n",
            "Fetched 301 kB in 0s (632 kB/s)\n",
            "debconf: unable to initialize frontend: Dialog\n",
            "debconf: (No usable dialog-like program is installed, so the dialog based frontend cannot be used. at /usr/share/perl5/Debconf/FrontEnd/Dialog.pm line 76, <> line 1.)\n",
            "debconf: falling back to frontend: Readline\n",
            "debconf: unable to initialize frontend: Readline\n",
            "debconf: (This frontend requires a controlling tty.)\n",
            "debconf: falling back to frontend: Teletype\n",
            "dpkg-preconfigure: unable to re-open stdin: \n",
            "Selecting previously unselected package tesseract-ocr-fas.\n",
            "(Reading database ... 124062 files and directories currently installed.)\n",
            "Preparing to unpack .../tesseract-ocr-fas_4.00~git24-0e00fe6-1.2_all.deb ...\n",
            "Unpacking tesseract-ocr-fas (4.00~git24-0e00fe6-1.2) ...\n",
            "Setting up tesseract-ocr-fas (4.00~git24-0e00fe6-1.2) ...\n"
          ]
        }
      ],
      "source": [
        "!sudo apt-get install tesseract-ocr-fas"
      ]
    },
    {
      "cell_type": "markdown",
      "metadata": {
        "id": "Vk-Bsayi63d_"
      },
      "source": [
        "# **الف:**"
      ]
    },
    {
      "cell_type": "code",
      "execution_count": 5,
      "metadata": {
        "colab": {
          "base_uri": "https://localhost:8080/"
        },
        "id": "Kg_QnpkS0AE9",
        "outputId": "119a8e2f-58ed-438c-f3c2-451d514bc87c"
      },
      "outputs": [
        {
          "output_type": "stream",
          "name": "stdout",
          "text": [
            "OTSU OUTPUT:\n",
            "     \n",
            "\n",
            "تبم‌های یر\n",
            "\n",
            "کادر پزشکی و ام\n",
            "فرهنگی «جهاد دان:_ ؟!\n",
            "ری برگزار می‌کردیم ۳\n",
            "\n",
            "ن معمولا با گروه پانزده‌بیست‌نفره ا٩\n",
            "\n",
            "بهیاری و امدادگری را تمام کرده بودند. به ۱\n",
            "\n",
            "و بعد از اتسمام عملیات دوباره\n",
            "\n",
            "دانشگاه می‌ شدیم .. : یشنم\n",
            "\n",
            "4\n",
            "۳۳ ام دم میا یبا ۱\n",
            "0 تم ‌ یچ و ۱\n",
            "\n",
            "ی 9 :\n",
            "مه\n",
            "\n",
            "ا ادا\n",
            "ات دامه داشت تا ایرکه ه سل ۱۳۶۲ مجدد داز ها باز\n",
            "شد ری . هرقدر ارتباط بامحط اا اس 5\n",
            "شرمی توستند به جبهه ها ببایند . با ایین وضعیت معلو 5\n",
            "م نبود ج\n",
            "\n",
            "تقلابی آن روزها بیید؛جوی\n",
            "\n",
            "به بود.\n",
            "باوجود همه و\n",
            "يٍ, «جهاد وازن‌گاهی!\n",
            "\n",
            "اتأمسن ۰ نما های رورا\n",
            "\n",
            "اول آن روزها ۷\n",
            "| کردنك\" موی\n",
            "\n",
            "ویمدهابه ۱\n",
            "\n",
            " \n",
            "\f\n",
            "*************************\n",
            "\n",
            "Adaptive Threshold OUTPUT:\n",
            "مم زود بزرگ می‌شدند و رآه چندساله را عرض چند ماء مور :\n",
            "کاظمیآشتیانی هم دراین دوران. یعنی سال‌های ول اک سر\n",
            "جبهه رفت وامد می‌ درد . ۱\n",
            "۳ ماعز مزام هایمان معمولا در ایام عملیات انجام گر ۱\n",
            "تعداد مجروحان در این ایام بیشتر بود و بیشترن\n",
            "تیم‌های پزشکی و امدادی نیاز می‌شد. زمان جنگ\n",
            "کادر پزشکی و امد و درمان نیاز بود. برای همیران طرزر یر\n",
            "\" فرهنگی «جپاد دانشگاهی». برای دانشجوها کاس را\n",
            "و امدادگری برگزار می‌کرديم و زمان شروع عملیاتباکمی‌ن , ]\n",
            "آن معمولا با گروه پانزده بیست‌نفره نوی دم ۱\n",
            "ری وامدادگری رتمام رده بودند.ب مناطق جنی ‏\n",
            "و بعد از اتمام عملیات دوباره برمی‌گشتيم و مشنول ترس و ۱\n",
            "دانشگاه می شسد یم «دکترعبدالحسین شاهوردی. ازدوستان دوان نوی آ]\n",
            "\n",
            "...۰ کاظمی‌آشتیانی و مدیرعامل فعلی پژوهشگاه رویان). تِ ّ\n",
            "همین ن روال ادامه داشت تااینکه سال۱۳۶۲ محدد دانشگاه‌ها هاباز] ۱\n",
            "دانشجویان رفتند سر کلاس. هرقدر ارتباط با محیط آرام دانشگه ین\n",
            "می‌شد» کمترمی‌توانستند به جبپه‌ ها بیایند. با این وضعیت معلوم نب +\n",
            "۱ برسردغدغه‌های نا ارام سعید - و جوانان ‏ پرشورو انقلابی آن روز زها بیاید؛ ۳ اً\n",
            "\n",
            " \n",
            "\n",
            "  \n",
            " \n",
            "  \n",
            " \n",
            " \n",
            "\n",
            "  \n",
            "\n",
            " \n",
            "\n",
            "* که مهم‌ترین دغدغه شان حضور شبانه‌روزی در تب ۳ ن هم دوریف ‏\n",
            "در دانشگاه. نهادی که ارتباط دانشجویان امثال سعیلد اد ۳ 1\n",
            "\n",
            "و انفصال‌ها: باآر مان‌هاو دغدغه هایشان حفظ میک 5 و /\n",
            "بود؛ تشکلی نوپا که به منظور ایجاد ارتباط بین دانشگاه و ۳۹ ود\n",
            "و برزمین‌ماندخ کشورشکل گرفت. ازآنجاکه جنگ اولویت ول\n",
            "\n",
            "5 بچه‌ها به صنای زرگ دوم\n",
            "\n",
            "  \n",
            "\f\n"
          ]
        }
      ],
      "source": [
        "# Import required packages\n",
        "import cv2\n",
        "import pytesseract\n",
        "from google.colab.patches import cv2_imshow\n",
        "from PIL import Image\n",
        "\n",
        "##################### your code ################################\n",
        "img = cv2.imread(\"royan.jpg\")\n",
        "img = cv2.cvtColor(img, cv2.COLOR_BGR2GRAY)\n",
        "ret, thresh1 = cv2.threshold(img, 120, 255, cv2.THRESH_BINARY + cv2.THRESH_OTSU) \n",
        "thresh2 = cv2.adaptiveThreshold(img, 255, cv2.ADAPTIVE_THRESH_GAUSSIAN_C, cv2.THRESH_BINARY, 199, 5)\n",
        "\n",
        "################################################################\n",
        "# Finding contours\n",
        "## result = result otso|adaptive algorithm\n",
        "print(\"OTSU OUTPUT:\")\n",
        "print(pytesseract.image_to_string(thresh1 , lang='fas'))\n",
        "print(\"*************************\")\n",
        "print(\"\\nAdaptive Threshold OUTPUT:\")\n",
        "print(pytesseract.image_to_string(thresh2 , lang='fas'))"
      ]
    },
    {
      "cell_type": "code",
      "execution_count": null,
      "metadata": {
        "id": "W3x3Ro2yHOMC"
      },
      "outputs": [],
      "source": [
        "image_path_in_colab='.....'\n",
        "extractedInformation = pytesseract.image_to_string(image_path_in_colab, lang='fas')\n",
        "print(extractedInformation)"
      ]
    },
    {
      "cell_type": "markdown",
      "metadata": {
        "id": "YyPqXjW06-dh"
      },
      "source": [
        "# **ب:**"
      ]
    },
    {
      "cell_type": "code",
      "execution_count": 58,
      "metadata": {
        "id": "JBGeZj_DTzfs",
        "colab": {
          "base_uri": "https://localhost:8080/",
          "height": 607
        },
        "outputId": "24cb598a-43d8-4d2f-fcdd-7fb95909913e"
      },
      "outputs": [
        {
          "output_type": "display_data",
          "data": {
            "text/plain": [
              "<PIL.Image.Image image mode=L size=590x318>"
            ],
            "image/png": "[encoded data removed]"
          },
          "metadata": {}
        },
        {
          "output_type": "stream",
          "name": "stdout",
          "text": [
            " \n",
            "\n",
            "نام: حوریه\n",
            "\n",
            "نام خانوادگی: سبزواری\n",
            "\n",
            "شماره دانشجویی: ۸۶۱۲۰۰۶٩\n",
            "تم کتاب مورد علاقه شرق بنفشه\n",
            "\n",
            " \n",
            "\n",
            " \n",
            "\n",
            " \n",
            "\f\n"
          ]
        }
      ],
      "source": [
        "# Import required packages\n",
        "import cv2\n",
        "import pytesseract\n",
        "from google.colab.patches import cv2_imshow\n",
        "from PIL import Image\n",
        "##################### your code ################################\n",
        "img = cv2.imread(\"mypic.png\")\n",
        "img = cv2.cvtColor(img, cv2.COLOR_BGR2GRAY)\n",
        "\n",
        "ret, thresh = cv2.threshold(img, 80, 255, cv2.THRESH_BINARY + cv2.THRESH_OTSU)\n",
        "\n",
        "kernel = cv2.getStructuringElement(cv2.MORPH_ELLIPSE,(3,3))\n",
        "\n",
        "dilation = cv2.dilate(thresh, kernel, iterations=1)\n",
        "cv2_imshow(dilation)\n",
        "################################################################\n",
        "# Finding contours\n",
        "im2 = dilation.copy()\n",
        "contours, hierarchy = cv2.findContours(dilation, cv2.RETR_EXTERNAL,cv2.CHAIN_APPROX_NONE)\n",
        "\n",
        "for cnt in contours:\n",
        "  x, y, w, h = cv2.boundingRect(cnt)\n",
        "\t# Drawing a rectangle on copied image\n",
        "  rect = cv2.rectangle(im2, (x, y), (x + w, y + h), (0, 255, 0), 2)\n",
        "\t# Cropping the text block for giving input to OCR\n",
        "  cropped = im2[y:y + h, x:x + w]\n",
        "  print(pytesseract.image_to_string(cropped, lang='fas'))\n"
      ]
    },
    {
      "cell_type": "code",
      "source": [
        "# Import required packages\n",
        "import cv2\n",
        "import pytesseract\n",
        "from google.colab.patches import cv2_imshow\n",
        "from PIL import Image\n",
        "##################### your code ################################\n",
        "img = cv2.imread(\"mypic.png\")\n",
        "img = cv2.cvtColor(img, cv2.COLOR_BGR2GRAY)\n",
        "\n",
        "ret, thresh = cv2.threshold(img, 80, 255, cv2.THRESH_BINARY + cv2.THRESH_OTSU)\n",
        "\n",
        "kernel = cv2.getStructuringElement(cv2.MORPH_CROSS,(3,3))\n",
        "\n",
        "dilation = cv2.dilate(thresh, kernel, iterations=1)\n",
        "cv2_imshow(dilation)\n",
        "################################################################\n",
        "# Finding contours\n",
        "im2 = dilation.copy()\n",
        "contours, hierarchy = cv2.findContours(dilation, cv2.RETR_EXTERNAL,cv2.CHAIN_APPROX_NONE)\n",
        "\n",
        "for cnt in contours:\n",
        "  x, y, w, h = cv2.boundingRect(cnt)\n",
        "\t# Drawing a rectangle on copied image\n",
        "  rect = cv2.rectangle(im2, (x, y), (x + w, y + h), (0, 255, 0), 2)\n",
        "\t# Cropping the text block for giving input to OCR\n",
        "  cropped = im2[y:y + h, x:x + w]\n",
        "  print(pytesseract.image_to_string(cropped, lang='fas'))\n"
      ],
      "metadata": {
        "colab": {
          "base_uri": "https://localhost:8080/",
          "height": 607
        },
        "id": "xR-7yQw3bkH6",
        "outputId": "4c2ae91c-fd32-44d6-9b4c-23fb692a1591"
      },
      "execution_count": 56,
      "outputs": [
        {
          "output_type": "display_data",
          "data": {
            "text/plain": [
              "<PIL.Image.Image image mode=L size=590x318>"
            ],
            "image/png": "[encoded data removed]"
          },
          "metadata": {}
        },
        {
          "output_type": "stream",
          "name": "stdout",
          "text": [
            " \n",
            "\n",
            "نام: حوریه\n",
            "\n",
            "نام خانوادگی: سبزواری\n",
            "\n",
            "شماره دانشجویی: ۸۶۱۲۰۰۶٩\n",
            "تم کتاب مورد علاقه شرق بنفشه\n",
            "\n",
            " \n",
            "\n",
            " \n",
            "\n",
            " \n",
            "\f\n"
          ]
        }
      ]
    },
    {
      "cell_type": "code",
      "source": [
        "# Import required packages\n",
        "import cv2\n",
        "import pytesseract\n",
        "from google.colab.patches import cv2_imshow\n",
        "from PIL import Image\n",
        "##################### your code ################################\n",
        "img = cv2.imread(\"mypic.png\")\n",
        "img = cv2.cvtColor(img, cv2.COLOR_BGR2GRAY)\n",
        "\n",
        "ret, thresh = cv2.threshold(img, 80, 255, cv2.THRESH_BINARY + cv2.THRESH_OTSU)\n",
        "\n",
        "kernel = cv2.getStructuringElement(cv2.MORPH_RECT,(3,3))\n",
        "\n",
        "dilation = cv2.dilate(thresh, kernel, iterations=1)\n",
        "cv2_imshow(dilation)\n",
        "################################################################\n",
        "# Finding contours\n",
        "im2 = dilation.copy()\n",
        "contours, hierarchy = cv2.findContours(dilation, cv2.RETR_EXTERNAL,cv2.CHAIN_APPROX_NONE)\n",
        "\n",
        "for cnt in contours:\n",
        "  x, y, w, h = cv2.boundingRect(cnt)\n",
        "\t# Drawing a rectangle on copied image\n",
        "  rect = cv2.rectangle(im2, (x, y), (x + w, y + h), (0, 255, 0), 2)\n",
        "\t# Cropping the text block for giving input to OCR\n",
        "  cropped = im2[y:y + h, x:x + w]\n",
        "  print(pytesseract.image_to_string(cropped, lang='fas'))\n"
      ],
      "metadata": {
        "colab": {
          "base_uri": "https://localhost:8080/",
          "height": 607
        },
        "id": "krXn7vehb7XL",
        "outputId": "3a59d207-0713-4f28-c585-c0588af07a58"
      },
      "execution_count": 57,
      "outputs": [
        {
          "output_type": "display_data",
          "data": {
            "text/plain": [
              "<PIL.Image.Image image mode=L size=590x318>"
            ],
            "image/png": "[encoded data removed]"
          },
          "metadata": {}
        },
        {
          "output_type": "stream",
          "name": "stdout",
          "text": [
            " \n",
            "\n",
            "نام: حوریه\n",
            "\n",
            "نام خانوادگی: سبزواری\n",
            "\n",
            "شماره دانشجویی: ۶ ۱۸٩\n",
            "نام کتاب مورد علاقه: شرق بنفشه\n",
            "\n",
            " \n",
            "\n",
            " \n",
            "\n",
            " \n",
            "\f\n"
          ]
        }
      ]
    },
    {
      "cell_type": "code",
      "execution_count": 30,
      "metadata": {
        "id": "VOilxLYHVHwY",
        "colab": {
          "base_uri": "https://localhost:8080/"
        },
        "outputId": "1ea03100-e07c-4fd5-bbef-66088321de74"
      },
      "outputs": [
        {
          "output_type": "stream",
          "name": "stdout",
          "text": [
            "نام: حوریه\n",
            "\n",
            "نم خقوادگی: سبزواری\n",
            "\n",
            "شماره دانشجویی: ۹۸۶۱۲۰۰٩\n",
            "نم کاب مورد ملق شرق بقشه\n",
            "\f\n"
          ]
        }
      ],
      "source": [
        "image_path_in_colab=\"mypic.png\"\n",
        "extractedInformation = pytesseract.image_to_string(image_path_in_colab, lang='fas')\n",
        "print(extractedInformation)"
      ]
    }
  ],
  "metadata": {
    "colab": {
      "provenance": []
    },
    "gpuClass": "standard",
    "kernelspec": {
      "display_name": "Python 3.8.0 64-bit",
      "language": "python",
      "name": "python3"
    },
    "language_info": {
      "codemirror_mode": {
        "name": "ipython",
        "version": 3
      },
      "file_extension": ".py",
      "mimetype": "text/x-python",
      "name": "python",
      "nbconvert_exporter": "python",
      "pygments_lexer": "ipython3",
      "version": "3.8.0"
    },
    "vscode": {
      "interpreter": {
        "hash": "723d4b7bc280cd31fdada53ad6420192b9a3a8d60631096143cc718cb9440dc1"
      }
    }
  },
  "nbformat": 4,
  "nbformat_minor": 0
}