{
  "nbformat": 4,
  "nbformat_minor": 0,
  "metadata": {
    "colab": {
      "provenance": []
    },
    "kernelspec": {
      "name": "python3",
      "display_name": "Python 3"
    },
    "language_info": {
      "name": "python"
    }
  },
  "cells": [
    {
      "cell_type": "markdown",
      "source": [
        "#library"
      ],
      "metadata": {
        "id": "g8yi1QRsHfXG"
      }
    },
    {
      "cell_type": "code",
      "source": [
        "import os\n",
        "import glob\n",
        "import random\n",
        "import tensorflow\n",
        "import numpy as np\n",
        "from sklearn import svm\n",
        "from keras import layers\n",
        "from keras import models\n",
        "from skimage import feature\n",
        "from tensorflow import keras\n",
        "import matplotlib.pyplot as plt\n",
        "from tensorflow.python import image\n",
        "from keras.utils import to_categorical\n",
        "# from keras_visualizer import visualizer \n",
        "from keras.layers.core.dense import Dense\n",
        "from sklearn.metrics import accuracy_score\n",
        "from keras.utils.vis_utils import plot_model\n",
        "from tensorflow.python.ops.math_ops import add\n",
        "from keras.engine.sequential import Sequential\n",
        "from sklearn.preprocessing import LabelEncoder\n",
        "from keras.layers.serialization import activation\n",
        "from tensorflow.python.ops.math_ops import Sigmoid\n",
        "from sklearn.model_selection import train_test_split\n",
        "from keras.layers.convolutional.base_separable_conv import activations"
      ],
      "metadata": {
        "id": "9BEn3LaRNO2A"
      },
      "execution_count": 1,
      "outputs": []
    },
    {
      "cell_type": "code",
      "source": [
        "from google.colab.patches import cv2_imshow\n",
        "import imutils\n",
        "import cv2\n",
        "from skimage.feature import local_binary_pattern\n",
        "from sklearn.svm import LinearSVC\n",
        "from sklearn.metrics import accuracy_score"
      ],
      "metadata": {
        "id": "Kf_G5YpPpquS"
      },
      "execution_count": 2,
      "outputs": []
    },
    {
      "cell_type": "code",
      "source": [
        "def shape_detector(image):\n",
        "  # gray = cv2.cvtColor(image, cv2.COLOR_BGR2GRAY)\n",
        "  thresh = cv2.threshold(image, 100, 255, cv2.THRESH_BINARY)[1]\n",
        "  cnts,_ = cv2.findContours(thresh, 1, 1)\n",
        "  cnt = cnts[0]\n",
        "  for c in cnts:\n",
        "    area = cv2.contourArea(c)\n",
        "    if area > cv2.contourArea(cnt):\n",
        "      cnt = c\n",
        "  return cnt"
      ],
      "metadata": {
        "id": "8flOPBijoVuS"
      },
      "execution_count": 3,
      "outputs": []
    },
    {
      "cell_type": "markdown",
      "source": [
        "#Part1.compatness"
      ],
      "metadata": {
        "id": "BNex_EaD8nbF"
      }
    },
    {
      "cell_type": "code",
      "execution_count": 4,
      "metadata": {
        "id": "EN17ostNnHI_"
      },
      "outputs": [],
      "source": [
        "def compatness(image):\n",
        "  shape = shape_detector(image)\n",
        "  area = cv2.contourArea(shape)\n",
        "  primeter = cv2.arcLength(shape, True)\n",
        "  compactness_score = np.divide((4 * np.pi * area), (np.square(primeter)))\n",
        "  return compactness_score"
      ]
    },
    {
      "cell_type": "markdown",
      "source": [
        "#Part2.eccenticity"
      ],
      "metadata": {
        "id": "yfuazVl48o_I"
      }
    },
    {
      "cell_type": "code",
      "source": [
        "def eccenticity(image):\n",
        "  shape = shape_detector(image)\n",
        "  (x,y),(MA, ma),angle = cv2.fitEllipse(shape)\n",
        "  if MA > ma:\n",
        "    MA, ma = ma, MA\n",
        "  eccentricity_score = np.sqrt( 1 - np.square(MA / ma))\n",
        "  return eccentricity_score"
      ],
      "metadata": {
        "id": "7MMcGZH0nPXo"
      },
      "execution_count": 5,
      "outputs": []
    },
    {
      "cell_type": "markdown",
      "source": [
        "#Part3.solidity"
      ],
      "metadata": {
        "id": "-iYszMlR8rTp"
      }
    },
    {
      "cell_type": "code",
      "source": [
        "def solidity(image):\n",
        "  shape = shape_detector(image)\n",
        "  area = cv2.contourArea(shape)\n",
        "  convex_hull = cv2.convexHull(shape)\n",
        "  convex_hull_area = cv2.contourArea(convex_hull)\n",
        "  solidity_score = float(area) / convex_hull_area\n",
        "  return solidity_score"
      ],
      "metadata": {
        "id": "4Ai0soihnPVm"
      },
      "execution_count": 6,
      "outputs": []
    },
    {
      "cell_type": "markdown",
      "source": [
        "#Part4.LBP"
      ],
      "metadata": {
        "id": "ND4198GF8ybo"
      }
    },
    {
      "cell_type": "code",
      "source": [
        "def histogram_of_LBP(image, numPoints, radius, eps=1e-7):\n",
        "\tlbp = local_binary_pattern(image, numPoints, radius, method=\"uniform\")\n",
        "\t(hist, _) = np.histogram(lbp.ravel(), density=True, bins=256, range=(0, 256))\n",
        "\thist = hist.astype(\"float\")\n",
        "\thist /= (hist.sum() + eps)\n",
        "\treturn hist"
      ],
      "metadata": {
        "id": "Smlqs2-_nPMh"
      },
      "execution_count": 7,
      "outputs": []
    },
    {
      "cell_type": "markdown",
      "source": [
        "#validate function"
      ],
      "metadata": {
        "id": "Zsm9GZtLwJ0y"
      }
    },
    {
      "cell_type": "code",
      "source": [
        "def validating_func(image_ship_path, image_airplane_path):\n",
        "  ship_img = cv2.imread(image_ship_path, 0)\n",
        "  airplane_img = cv2.imread(image_airplane_path, 0)\n",
        "  eccenticity_ship, eccenticity_airplane = eccenticity(ship_img), eccenticity(airplane_img)\n",
        "  compatness_ship, compatness_airplane = compatness(ship_img), compatness(airplane_img)\n",
        "  solidity_ship, solidity_airplane = solidity(ship_img), solidity(airplane_img)\n",
        "  print(f\"Result for ship image:\\ncompatness is : {compatness_ship}\\t\\teccenticity is : {eccenticity_ship}\\t\\tsolidity is : {solidity_ship}\")\n",
        "  print(f\"Result for airplane image:\\ncompatness is : {compatness_airplane}\\t\\teccenticity is : {eccenticity_airplane}\\t\\tsolidity is : {solidity_airplane}\")\n",
        "  "
      ],
      "metadata": {
        "id": "hJIh5ZQ6wJM-"
      },
      "execution_count": 8,
      "outputs": []
    },
    {
      "cell_type": "code",
      "source": [
        "validating_func('/content/1412936.jpg', '/content/airplane153.jpg')"
      ],
      "metadata": {
        "colab": {
          "base_uri": "https://localhost:8080/"
        },
        "id": "dj2C3CzKR7OH",
        "outputId": "3d87b21e-0042-4aa8-9731-5b0c7ad80b3e"
      },
      "execution_count": null,
      "outputs": [
        {
          "output_type": "stream",
          "name": "stdout",
          "text": [
            "Result for ship image:\n",
            "compatness is : 0.3900744545613469\t\teccenticity is : 0.8901555055181084\t\tsolidity is : 0.9471560558472225\n",
            "Result for airplane image:\n",
            "compatness is : 0.29043100592552473\t\teccenticity is : 0.8066844957099251\t\tsolidity is : 0.9043478216799644\n"
          ]
        }
      ]
    },
    {
      "cell_type": "markdown",
      "source": [
        "#Part5.prepare dataset(just run this cell and not change)"
      ],
      "metadata": {
        "id": "weS9dHhXgJl1"
      }
    },
    {
      "cell_type": "code",
      "source": [
        "!gdown --id 1O_VkcGlWRR6h00VT8nXIgeI3RyvBpXbE\n",
        "!unzip dataset.zip\n",
        "classes = os.listdir(\"/content/dataset\")\n",
        "images_paths = glob.glob(\"/content/dataset/*/*\")"
      ],
      "metadata": {
        "id": "GM7pmrqmNWkA",
        "colab": {
          "base_uri": "https://localhost:8080/"
        },
        "outputId": "e4fcbac9-5232-4afe-98a0-98e5352e755c"
      },
      "execution_count": 9,
      "outputs": [
        {
          "output_type": "stream",
          "name": "stdout",
          "text": [
            "/usr/local/lib/python3.8/dist-packages/gdown/cli.py:127: FutureWarning: Option `--id` was deprecated in version 4.3.1 and will be removed in 5.0. You don't need to pass it anymore to use a file ID.\n",
            "  warnings.warn(\n",
            "Downloading...\n",
            "From: https://drive.google.com/uc?id=1O_VkcGlWRR6h00VT8nXIgeI3RyvBpXbE\n",
            "To: /content/dataset.zip\n",
            "100% 18.4M/18.4M [00:00<00:00, 81.4MB/s]\n",
            "Archive:  dataset.zip\n",
            "   creating: dataset/\n",
            "   creating: dataset/airplane/\n",
            "  inflating: dataset/airplane/airplane1.jpg  \n",
            "  inflating: dataset/airplane/airplane136.jpg  \n",
            "  inflating: dataset/airplane/airplane14.jpg  \n",
            "  inflating: dataset/airplane/airplane141.jpg  \n",
            "  inflating: dataset/airplane/airplane153.jpg  \n",
            "  inflating: dataset/airplane/airplane156.jpg  \n",
            "  inflating: dataset/airplane/airplane157.jpg  \n",
            "  inflating: dataset/airplane/airplane159.jpg  \n",
            "  inflating: dataset/airplane/airplane169.jpg  \n",
            "  inflating: dataset/airplane/airplane170.jpg  \n",
            "  inflating: dataset/airplane/airplane182.jpg  \n",
            "  inflating: dataset/airplane/airplane184.jpg  \n",
            "  inflating: dataset/airplane/airplane185.jpg  \n",
            "  inflating: dataset/airplane/airplane188.jpg  \n",
            "  inflating: dataset/airplane/airplane194.jpg  \n",
            "  inflating: dataset/airplane/airplane195.jpg  \n",
            "  inflating: dataset/airplane/airplane196.jpg  \n",
            "  inflating: dataset/airplane/airplane198.jpg  \n",
            "  inflating: dataset/airplane/airplane199.jpg  \n",
            "  inflating: dataset/airplane/airplane2.jpg  \n",
            "  inflating: dataset/airplane/airplane200.jpg  \n",
            "  inflating: dataset/airplane/airplane208.jpg  \n",
            "  inflating: dataset/airplane/airplane215.jpg  \n",
            "  inflating: dataset/airplane/airplane216.jpg  \n",
            "  inflating: dataset/airplane/airplane218.jpg  \n",
            "  inflating: dataset/airplane/airplane219.jpg  \n",
            "  inflating: dataset/airplane/airplane22.jpg  \n",
            "  inflating: dataset/airplane/airplane221.jpg  \n",
            "  inflating: dataset/airplane/airplane230.jpg  \n",
            "  inflating: dataset/airplane/airplane231.jpg  \n",
            "  inflating: dataset/airplane/airplane233.jpg  \n",
            "  inflating: dataset/airplane/airplane237.jpg  \n",
            "  inflating: dataset/airplane/airplane238.jpg  \n",
            "  inflating: dataset/airplane/airplane239.jpg  \n",
            "  inflating: dataset/airplane/airplane24.jpg  \n",
            "  inflating: dataset/airplane/airplane240.jpg  \n",
            "  inflating: dataset/airplane/airplane247.jpg  \n",
            "  inflating: dataset/airplane/airplane248.jpg  \n",
            "  inflating: dataset/airplane/airplane250.jpg  \n",
            "  inflating: dataset/airplane/airplane255.jpg  \n",
            "  inflating: dataset/airplane/airplane259.jpg  \n",
            "  inflating: dataset/airplane/airplane266.jpg  \n",
            "  inflating: dataset/airplane/airplane27.jpg  \n",
            "  inflating: dataset/airplane/airplane271.jpg  \n",
            "  inflating: dataset/airplane/airplane275.jpg  \n",
            "  inflating: dataset/airplane/airplane276.jpg  \n",
            "  inflating: dataset/airplane/airplane28.jpg  \n",
            "  inflating: dataset/airplane/airplane282.jpg  \n",
            "  inflating: dataset/airplane/airplane29.jpg  \n",
            "  inflating: dataset/airplane/airplane31.jpg  \n",
            "  inflating: dataset/airplane/airplane32.jpg  \n",
            "  inflating: dataset/airplane/airplane322.jpg  \n",
            "  inflating: dataset/airplane/airplane323.jpg  \n",
            "  inflating: dataset/airplane/airplane324.jpg  \n",
            "  inflating: dataset/airplane/airplane325.jpg  \n",
            "  inflating: dataset/airplane/airplane326.jpg  \n",
            "  inflating: dataset/airplane/airplane327.jpg  \n",
            "  inflating: dataset/airplane/airplane333.jpg  \n",
            "  inflating: dataset/airplane/airplane337.jpg  \n",
            "  inflating: dataset/airplane/airplane344.jpg  \n",
            "  inflating: dataset/airplane/airplane352.jpg  \n",
            "  inflating: dataset/airplane/airplane353.jpg  \n",
            "  inflating: dataset/airplane/airplane354.jpg  \n",
            "  inflating: dataset/airplane/airplane355.jpg  \n",
            "  inflating: dataset/airplane/airplane356.jpg  \n",
            "  inflating: dataset/airplane/airplane36.jpg  \n",
            "  inflating: dataset/airplane/airplane361.jpg  \n",
            "  inflating: dataset/airplane/airplane362.jpg  \n",
            "  inflating: dataset/airplane/airplane363.jpg  \n",
            "  inflating: dataset/airplane/airplane364.jpg  \n",
            "  inflating: dataset/airplane/airplane366.jpg  \n",
            "  inflating: dataset/airplane/airplane367.jpg  \n",
            "  inflating: dataset/airplane/airplane374.jpg  \n",
            "  inflating: dataset/airplane/airplane375.jpg  \n",
            "  inflating: dataset/airplane/airplane376.jpg  \n",
            "  inflating: dataset/airplane/airplane384.jpg  \n",
            "  inflating: dataset/airplane/airplane385.jpg  \n",
            "  inflating: dataset/airplane/airplane386.jpg  \n",
            "  inflating: dataset/airplane/airplane387.jpg  \n",
            "  inflating: dataset/airplane/airplane388.jpg  \n",
            "  inflating: dataset/airplane/airplane389.jpg  \n",
            "  inflating: dataset/airplane/airplane396.jpg  \n",
            "  inflating: dataset/airplane/airplane397.jpg  \n",
            "  inflating: dataset/airplane/airplane398.jpg  \n",
            "  inflating: dataset/airplane/airplane403.jpg  \n",
            "  inflating: dataset/airplane/airplane404.jpg  \n",
            "  inflating: dataset/airplane/airplane405.jpg  \n",
            "  inflating: dataset/airplane/airplane406.jpg  \n",
            "  inflating: dataset/airplane/airplane407.jpg  \n",
            "  inflating: dataset/airplane/airplane408.jpg  \n",
            "  inflating: dataset/airplane/airplane415.jpg  \n",
            "  inflating: dataset/airplane/airplane416.jpg  \n",
            "  inflating: dataset/airplane/airplane417.jpg  \n",
            "  inflating: dataset/airplane/airplane421.jpg  \n",
            "  inflating: dataset/airplane/airplane426.jpg  \n",
            "  inflating: dataset/airplane/airplane427.jpg  \n",
            "  inflating: dataset/airplane/airplane43.jpg  \n",
            "  inflating: dataset/airplane/airplane431.jpg  \n",
            "  inflating: dataset/airplane/airplane432.jpg  \n",
            "  inflating: dataset/airplane/airplane440.jpg  \n",
            "  inflating: dataset/airplane/airplane441.jpg  \n",
            "  inflating: dataset/airplane/airplane442.jpg  \n",
            "  inflating: dataset/airplane/airplane443.jpg  \n",
            "  inflating: dataset/airplane/airplane448.jpg  \n",
            "  inflating: dataset/airplane/airplane449.jpg  \n",
            "  inflating: dataset/airplane/airplane45.jpg  \n",
            "  inflating: dataset/airplane/airplane451.jpg  \n",
            "  inflating: dataset/airplane/airplane452.jpg  \n",
            "  inflating: dataset/airplane/airplane453.jpg  \n",
            "  inflating: dataset/airplane/airplane464.jpg  \n",
            "  inflating: dataset/airplane/airplane474.jpg  \n",
            "  inflating: dataset/airplane/airplane475.jpg  \n",
            "  inflating: dataset/airplane/airplane477.jpg  \n",
            "  inflating: dataset/airplane/airplane481.jpg  \n",
            "  inflating: dataset/airplane/airplane482.jpg  \n",
            "  inflating: dataset/airplane/airplane483.jpg  \n",
            "  inflating: dataset/airplane/airplane485.jpg  \n",
            "  inflating: dataset/airplane/airplane486.jpg  \n",
            "  inflating: dataset/airplane/airplane487.jpg  \n",
            "  inflating: dataset/airplane/airplane488.jpg  \n",
            "  inflating: dataset/airplane/airplane49.jpg  \n",
            "  inflating: dataset/airplane/airplane51.jpg  \n",
            "  inflating: dataset/airplane/airplane527.jpg  \n",
            "  inflating: dataset/airplane/airplane528.jpg  \n",
            "  inflating: dataset/airplane/airplane531.jpg  \n",
            "  inflating: dataset/airplane/airplane532.jpg  \n",
            "  inflating: dataset/airplane/airplane533.jpg  \n",
            "  inflating: dataset/airplane/airplane552.jpg  \n",
            "  inflating: dataset/airplane/airplane557.jpg  \n",
            "  inflating: dataset/airplane/airplane564.jpg  \n",
            "  inflating: dataset/airplane/airplane565.jpg  \n",
            "  inflating: dataset/airplane/airplane566.jpg  \n",
            "  inflating: dataset/airplane/airplane569.jpg  \n",
            "  inflating: dataset/airplane/airplane570.jpg  \n",
            "  inflating: dataset/airplane/airplane582.jpg  \n",
            "  inflating: dataset/airplane/airplane583.jpg  \n",
            "  inflating: dataset/airplane/airplane584.jpg  \n",
            "  inflating: dataset/airplane/airplane587.jpg  \n",
            "  inflating: dataset/airplane/airplane601.jpg  \n",
            "  inflating: dataset/airplane/airplane605.jpg  \n",
            "  inflating: dataset/airplane/airplane616.jpg  \n",
            "  inflating: dataset/airplane/airplane621.jpg  \n",
            "  inflating: dataset/airplane/airplane624.jpg  \n",
            "  inflating: dataset/airplane/airplane626.jpg  \n",
            "  inflating: dataset/airplane/airplane631.jpg  \n",
            "  inflating: dataset/airplane/airplane633.jpg  \n",
            "  inflating: dataset/airplane/airplane641.jpg  \n",
            "  inflating: dataset/airplane/airplane647.jpg  \n",
            "  inflating: dataset/airplane/airplane653.jpg  \n",
            "  inflating: dataset/airplane/airplane654.jpg  \n",
            "  inflating: dataset/airplane/airplane655.jpg  \n",
            "  inflating: dataset/airplane/airplane657.jpg  \n",
            "  inflating: dataset/airplane/airplane658.jpg  \n",
            "  inflating: dataset/airplane/airplane659.jpg  \n",
            "  inflating: dataset/airplane/airplane66.jpg  \n",
            "  inflating: dataset/airplane/airplane660.jpg  \n",
            "  inflating: dataset/airplane/airplane662.jpg  \n",
            "  inflating: dataset/airplane/airplane663.jpg  \n",
            "  inflating: dataset/airplane/airplane666.jpg  \n",
            "  inflating: dataset/airplane/airplane668.jpg  \n",
            "  inflating: dataset/airplane/airplane669.jpg  \n",
            "  inflating: dataset/airplane/airplane670.jpg  \n",
            "  inflating: dataset/airplane/airplane673.jpg  \n",
            "  inflating: dataset/airplane/airplane678.jpg  \n",
            "  inflating: dataset/airplane/airplane679.jpg  \n",
            "  inflating: dataset/airplane/airplane684.jpg  \n",
            "  inflating: dataset/airplane/airplane691.jpg  \n",
            "  inflating: dataset/airplane/airplane697.jpg  \n",
            "  inflating: dataset/airplane/airplane698.jpg  \n",
            "  inflating: dataset/airplane/airplane699.jpg  \n",
            "  inflating: dataset/airplane/airplane700.jpg  \n",
            "  inflating: dataset/airplane/airplane708.jpg  \n",
            "  inflating: dataset/airplane/airplane709.jpg  \n",
            "  inflating: dataset/airplane/airplane71.jpg  \n",
            "  inflating: dataset/airplane/airplane715.jpg  \n",
            "  inflating: dataset/airplane/airplane717.jpg  \n",
            "  inflating: dataset/airplane/airplane72.jpg  \n",
            "  inflating: dataset/airplane/airplane722.jpg  \n",
            "  inflating: dataset/airplane/airplane725.jpg  \n",
            "  inflating: dataset/airplane/airplane73.jpg  \n",
            "  inflating: dataset/airplane/airplane734.jpg  \n",
            "  inflating: dataset/airplane/airplane735.jpg  \n",
            "  inflating: dataset/airplane/airplane749.jpg  \n",
            "  inflating: dataset/airplane/airplane750.jpg  \n",
            "  inflating: dataset/airplane/airplane751.jpg  \n",
            "  inflating: dataset/airplane/airplane768.jpg  \n",
            "  inflating: dataset/airplane/airplane771.jpg  \n",
            "  inflating: dataset/airplane/airplane773.jpg  \n",
            "  inflating: dataset/airplane/airplane775.jpg  \n",
            "  inflating: dataset/airplane/airplane776.jpg  \n",
            "  inflating: dataset/airplane/airplane79.jpg  \n",
            "  inflating: dataset/airplane/airplane799.jpg  \n",
            "  inflating: dataset/airplane/airplane800.jpg  \n",
            "  inflating: dataset/airplane/airplane802.jpg  \n",
            "  inflating: dataset/airplane/airplane803.jpg  \n",
            "  inflating: dataset/airplane/airplane81.jpg  \n",
            "  inflating: dataset/airplane/airplane811.jpg  \n",
            "  inflating: dataset/airplane/airplane812.jpg  \n",
            "  inflating: dataset/airplane/airplane813.jpg  \n",
            "  inflating: dataset/airplane/airplane823.jpg  \n",
            "  inflating: dataset/airplane/airplane824.jpg  \n",
            "  inflating: dataset/airplane/airplane825.jpg  \n",
            "  inflating: dataset/airplane/airplane849.jpg  \n",
            "  inflating: dataset/airplane/airplane852.jpg  \n",
            "  inflating: dataset/airplane/airplane862.jpg  \n",
            "  inflating: dataset/airplane/airplane864.jpg  \n",
            "  inflating: dataset/airplane/airplane865.jpg  \n",
            "  inflating: dataset/airplane/airplane877.jpg  \n",
            "  inflating: dataset/airplane/airplane879.jpg  \n",
            "  inflating: dataset/airplane/airplane885.jpg  \n",
            "  inflating: dataset/airplane/airplane889.jpg  \n",
            "  inflating: dataset/airplane/airplane890.jpg  \n",
            "  inflating: dataset/airplane/airplane897.jpg  \n",
            "  inflating: dataset/airplane/airplane906.jpg  \n",
            "  inflating: dataset/airplane/airplane91.jpg  \n",
            "  inflating: dataset/airplane/airplane92.jpg  \n",
            "  inflating: dataset/airplane/airplane942.jpg  \n",
            "  inflating: dataset/airplane/airplane944.jpg  \n",
            "  inflating: dataset/airplane/airplane953.jpg  \n",
            "  inflating: dataset/airplane/airplane954.jpg  \n",
            "  inflating: dataset/airplane/airplane966.jpg  \n",
            "  inflating: dataset/airplane/airplane971.jpg  \n",
            "  inflating: dataset/airplane/airplane972.jpg  \n",
            "  inflating: dataset/airplane/airplane973.jpg  \n",
            "  inflating: dataset/airplane/airplane974.jpg  \n",
            "  inflating: dataset/airplane/airplane976.jpg  \n",
            "  inflating: dataset/airplane/airplane982.jpg  \n",
            "  inflating: dataset/airplane/airplane993.jpg  \n",
            "  inflating: dataset/airplane/airplane994.jpg  \n",
            "   creating: dataset/ship/\n",
            "  inflating: dataset/ship/1073645.jpg  \n",
            "  inflating: dataset/ship/1114371.jpg  \n",
            "  inflating: dataset/ship/1114372.jpg  \n",
            "  inflating: dataset/ship/1229806.jpg  \n",
            "  inflating: dataset/ship/1244690.jpg  \n",
            "  inflating: dataset/ship/1250085.jpg  \n",
            "  inflating: dataset/ship/1263459.jpg  \n",
            "  inflating: dataset/ship/1296498.jpg  \n",
            "  inflating: dataset/ship/1318952.jpg  \n",
            "  inflating: dataset/ship/1334846.jpg  \n",
            "  inflating: dataset/ship/1334849.jpg  \n",
            "  inflating: dataset/ship/1334851.jpg  \n",
            "  inflating: dataset/ship/1345054.jpg  \n",
            "  inflating: dataset/ship/1346587.jpg  \n",
            "  inflating: dataset/ship/1412936.jpg  \n",
            "  inflating: dataset/ship/1413805.jpg  \n",
            "  inflating: dataset/ship/1473060.jpg  \n",
            "  inflating: dataset/ship/1569516.jpg  \n",
            "  inflating: dataset/ship/1569560.jpg  \n",
            "  inflating: dataset/ship/1603686.jpg  \n",
            "  inflating: dataset/ship/1603687.jpg  \n",
            "  inflating: dataset/ship/1603850.jpg  \n",
            "  inflating: dataset/ship/1603853.jpg  \n",
            "  inflating: dataset/ship/1728153.jpg  \n",
            "  inflating: dataset/ship/1737175.jpg  \n",
            "  inflating: dataset/ship/1786288.jpg  \n",
            "  inflating: dataset/ship/1787418.jpg  \n",
            "  inflating: dataset/ship/1788614.jpg  \n",
            "  inflating: dataset/ship/1831322.jpg  \n",
            "  inflating: dataset/ship/1833418.jpg  \n",
            "  inflating: dataset/ship/1843993.jpg  \n",
            "  inflating: dataset/ship/1904939.jpg  \n",
            "  inflating: dataset/ship/1937807.jpg  \n",
            "  inflating: dataset/ship/1943931.jpg  \n",
            "  inflating: dataset/ship/1958103.jpg  \n",
            "  inflating: dataset/ship/1958284.jpg  \n",
            "  inflating: dataset/ship/1989612.jpg  \n",
            "  inflating: dataset/ship/1991234.jpg  \n",
            "  inflating: dataset/ship/2010303.jpg  \n",
            "  inflating: dataset/ship/2010304.jpg  \n",
            "  inflating: dataset/ship/2012364.jpg  \n",
            "  inflating: dataset/ship/2012365.jpg  \n",
            "  inflating: dataset/ship/2012366.jpg  \n",
            "  inflating: dataset/ship/2125171.jpg  \n",
            "  inflating: dataset/ship/2127031.jpg  \n",
            "  inflating: dataset/ship/2136335.jpg  \n",
            "  inflating: dataset/ship/2160804.jpg  \n",
            "  inflating: dataset/ship/2183166.jpg  \n",
            "  inflating: dataset/ship/2184605.jpg  \n",
            "  inflating: dataset/ship/2192267.jpg  \n",
            "  inflating: dataset/ship/2192272.jpg  \n",
            "  inflating: dataset/ship/2196336.jpg  \n",
            "  inflating: dataset/ship/2199205.jpg  \n",
            "  inflating: dataset/ship/2208821.jpg  \n",
            "  inflating: dataset/ship/2217944.jpg  \n",
            "  inflating: dataset/ship/2222503.jpg  \n",
            "  inflating: dataset/ship/2228236.jpg  \n",
            "  inflating: dataset/ship/2235705.jpg  \n",
            "  inflating: dataset/ship/2235747.jpg  \n",
            "  inflating: dataset/ship/2235770.jpg  \n",
            "  inflating: dataset/ship/2235771.jpg  \n",
            "  inflating: dataset/ship/2237388.jpg  \n",
            "  inflating: dataset/ship/2239436.jpg  \n",
            "  inflating: dataset/ship/2240083.jpg  \n",
            "  inflating: dataset/ship/2240087.jpg  \n",
            "  inflating: dataset/ship/2246589.jpg  \n",
            "  inflating: dataset/ship/2246769.jpg  \n",
            "  inflating: dataset/ship/2252297.jpg  \n",
            "  inflating: dataset/ship/2252298.jpg  \n",
            "  inflating: dataset/ship/2252499.jpg  \n",
            "  inflating: dataset/ship/2255446.jpg  \n",
            "  inflating: dataset/ship/2255448.jpg  \n",
            "  inflating: dataset/ship/2255990.jpg  \n",
            "  inflating: dataset/ship/2259527.jpg  \n",
            "  inflating: dataset/ship/2259786.jpg  \n",
            "  inflating: dataset/ship/2263658.jpg  \n",
            "  inflating: dataset/ship/2265605.jpg  \n",
            "  inflating: dataset/ship/2266165.jpg  \n",
            "  inflating: dataset/ship/2270066.jpg  \n",
            "  inflating: dataset/ship/2279386.jpg  \n",
            "  inflating: dataset/ship/2307973.jpg  \n",
            "  inflating: dataset/ship/613378.jpg  \n",
            "  inflating: dataset/ship/627875.jpg  \n",
            "  inflating: dataset/ship/676641.jpg  \n",
            "  inflating: dataset/ship/676917.jpg  \n",
            "  inflating: dataset/ship/697552.jpg  \n",
            "  inflating: dataset/ship/809706.jpg  \n",
            "  inflating: dataset/ship/949998.jpg  \n",
            "  inflating: dataset/ship/953465.jpg  \n"
          ]
        }
      ]
    },
    {
      "cell_type": "code",
      "source": [
        "x_data , y_data = [], []\n",
        "for img_path in images_paths:\n",
        "  x_data.append(cv2.resize(cv2.imread(img_path), (224,224)))\n",
        "  if img_path.split(\"/\")[3] == \"ship\":\n",
        "    y_data.append(0)\n",
        "  else:\n",
        "    y_data.append(1)  "
      ],
      "metadata": {
        "id": "VV2LraFIeTzf"
      },
      "execution_count": 10,
      "outputs": []
    },
    {
      "cell_type": "code",
      "source": [
        "x_train, x_test, y_train, y_test = train_test_split(x_data, y_data,test_size = 0.2, shuffle= True)"
      ],
      "metadata": {
        "id": "pPluW3-beTzg"
      },
      "execution_count": 11,
      "outputs": []
    },
    {
      "cell_type": "markdown",
      "source": [
        "#Part6. Exctract features and determine classifier"
      ],
      "metadata": {
        "id": "r2Lu46_O81dO"
      }
    },
    {
      "cell_type": "code",
      "source": [
        "def get_featureMatrix(data):\n",
        "  feature_matrix = []\n",
        "  for im in data:\n",
        "    x = cv2.cvtColor(im, cv2.COLOR_BGR2GRAY)\n",
        "    c = compatness(x)\n",
        "    e = eccenticity(x)\n",
        "    s = solidity(x)\n",
        "    h = histogram_of_LBP(x, 8, 1, eps=1e-7)[0]\n",
        "    feature_matrix.append([c, e, s, h])\n",
        "  return feature_matrix\n"
      ],
      "metadata": {
        "id": "yACJSHhDgel7"
      },
      "execution_count": 12,
      "outputs": []
    },
    {
      "cell_type": "code",
      "source": [
        "# model 1\n",
        "x_train = np.array(x_train)\n",
        "feature_matrix_train = np.array(get_featureMatrix(x_train))\n",
        "\n",
        "#determine classifier and train\n",
        "y_train = np.array(y_train)\n",
        "svm = LinearSVC()\n",
        "svm.fit(feature_matrix_train, y_train)"
      ],
      "metadata": {
        "id": "fNovCJaYdDJj",
        "colab": {
          "base_uri": "https://localhost:8080/"
        },
        "outputId": "0902e671-e8b9-4952-d18d-0864c34a7876"
      },
      "execution_count": 13,
      "outputs": [
        {
          "output_type": "execute_result",
          "data": {
            "text/plain": [
              "LinearSVC()"
            ]
          },
          "metadata": {},
          "execution_count": 13
        }
      ]
    },
    {
      "cell_type": "markdown",
      "source": [
        "#Part7"
      ],
      "metadata": {
        "id": "bslYazlcBvZH"
      }
    },
    {
      "cell_type": "code",
      "source": [
        "#test on test dataset\n",
        "x_test = np.array(x_test)\n",
        "y_test = np.array(y_test)\n",
        "feature_matrix_test = np.array(get_featureMatrix(x_test))\n",
        "predicted_labels = svm.predict(feature_matrix_test)\n",
        "print(\"accuracy: \",accuracy_score(y_test, predicted_labels))"
      ],
      "metadata": {
        "id": "Mi7ulg_ogUMa",
        "colab": {
          "base_uri": "https://localhost:8080/"
        },
        "outputId": "03786c70-18ff-4ed2-e4b6-1b663579fde3"
      },
      "execution_count": 14,
      "outputs": [
        {
          "output_type": "stream",
          "name": "stdout",
          "text": [
            "accuracy:  0.71875\n"
          ]
        }
      ]
    },
    {
      "cell_type": "markdown",
      "source": [
        "#Part8"
      ],
      "metadata": {
        "id": "PEGR2WSLB3vc"
      }
    },
    {
      "cell_type": "code",
      "source": [
        "#test visualize\n",
        "index = random.randint(0, len(x_test)-1)\n",
        "# prediction = clf.predict(get_featureMatrix(np.array([x_test[index]])))\n",
        "plt.title(f\"Ground truth lable :{y_test[index]} and predict class : {predicted_labels[index]}\")\n",
        "plt.imshow(x_test[index])\n",
        "plt.show()"
      ],
      "metadata": {
        "colab": {
          "base_uri": "https://localhost:8080/",
          "height": 281
        },
        "id": "AJpVJN4o5QKM",
        "outputId": "faa1c1a9-05f6-4a6d-86b8-ca44756d61ec"
      },
      "execution_count": 119,
      "outputs": [
        {
          "output_type": "display_data",
          "data": {
            "text/plain": [
              "<Figure size 432x288 with 1 Axes>"
            ],
            "image/png": "[encoded data removed]"
          },
          "metadata": {
            "needs_background": "light"
          }
        }
      ]
    }
  ]
}